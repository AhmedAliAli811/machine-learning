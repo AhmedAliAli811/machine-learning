{
  "nbformat": 4,
  "nbformat_minor": 0,
  "metadata": {
    "colab": {
      "provenance": [],
      "authorship_tag": "ABX9TyNNezK1MIMFQhS8RcTsMut1",
      "include_colab_link": true
    },
    "kernelspec": {
      "name": "python3",
      "display_name": "Python 3"
    },
    "language_info": {
      "name": "python"
    },
    "gpuClass": "standard"
  },
  "cells": [
    {
      "cell_type": "markdown",
      "metadata": {
        "id": "view-in-github",
        "colab_type": "text"
      },
      "source": [
        "<a href=\"https://colab.research.google.com/github/Ahmed-ali-fcai-811/machine-learning/blob/main/logisticRegressionAssignment.ipynb\" target=\"_parent\"><img src=\"https://colab.research.google.com/assets/colab-badge.svg\" alt=\"Open In Colab\"/></a>"
      ]
    },
    {
      "cell_type": "code",
      "execution_count": null,
      "metadata": {
        "id": "OuvEzNeFCsmC"
      },
      "outputs": [],
      "source": [
        "from keras.datasets import mnist\n",
        "import numpy as np"
      ]
    },
    {
      "cell_type": "code",
      "source": [
        "(x_train , y_train) , (x_test , y_test) = mnist.load_data()"
      ],
      "metadata": {
        "id": "gtb-3FSyDz_4",
        "colab": {
          "base_uri": "https://localhost:8080/"
        },
        "outputId": "f508d865-be3b-401d-b864-745b79f7f4ea"
      },
      "execution_count": null,
      "outputs": [
        {
          "output_type": "stream",
          "name": "stdout",
          "text": [
            "Downloading data from https://storage.googleapis.com/tensorflow/tf-keras-datasets/mnist.npz\n",
            "11490434/11490434 [==============================] - 0s 0us/step\n"
          ]
        }
      ]
    },
    {
      "cell_type": "code",
      "source": [
        "# 0 - 1 mask \n",
        "train_data_msk  = np.where((y_train==1) | (y_train == 0))\n",
        "test_data_msk = np.where( (y_test == 1) | (y_test == 0))"
      ],
      "metadata": {
        "id": "9XPigtriHA2M"
      },
      "execution_count": null,
      "outputs": []
    },
    {
      "cell_type": "code",
      "source": [
        "x_train = x_train[train_data_msk]\n",
        "y_train = y_train[train_data_msk]"
      ],
      "metadata": {
        "id": "XyBh74OmIxk8"
      },
      "execution_count": null,
      "outputs": []
    },
    {
      "cell_type": "code",
      "source": [
        "x_test = x_test[test_data_msk]\n",
        "y_test = y_test[test_data_msk]"
      ],
      "metadata": {
        "id": "O_oP5FEIKO6A"
      },
      "execution_count": null,
      "outputs": []
    },
    {
      "cell_type": "code",
      "source": [
        "x_train = x_train.reshape(x_train.shape[0] ,-1 )"
      ],
      "metadata": {
        "id": "EqZL7a2cKgzf"
      },
      "execution_count": null,
      "outputs": []
    },
    {
      "cell_type": "code",
      "source": [
        "x_train.shape"
      ],
      "metadata": {
        "id": "OiMtGpZMKjHW",
        "colab": {
          "base_uri": "https://localhost:8080/"
        },
        "outputId": "f8b5ec48-06b3-4d16-cf40-50a29e0b728b"
      },
      "execution_count": null,
      "outputs": [
        {
          "output_type": "execute_result",
          "data": {
            "text/plain": [
              "(12665, 784)"
            ]
          },
          "metadata": {},
          "execution_count": 7
        }
      ]
    },
    {
      "cell_type": "code",
      "source": [
        "x_test = x_test.reshape(x_test.shape[0] ,-1 )"
      ],
      "metadata": {
        "id": "hjFxnwc_GeR0"
      },
      "execution_count": null,
      "outputs": []
    },
    {
      "cell_type": "code",
      "source": [
        "y_test.shape"
      ],
      "metadata": {
        "colab": {
          "base_uri": "https://localhost:8080/"
        },
        "id": "2N7rDfPuGiFy",
        "outputId": "b7651e9c-fe34-479f-f461-78a3be3abb71"
      },
      "execution_count": null,
      "outputs": [
        {
          "output_type": "execute_result",
          "data": {
            "text/plain": [
              "(2115,)"
            ]
          },
          "metadata": {},
          "execution_count": 9
        }
      ]
    },
    {
      "cell_type": "code",
      "source": [
        "x_train = (x_train - np.mean(x_train)) / np.std(x_train)\n",
        "x_test = (x_test - np.mean(x_test)) / np.std(x_test)"
      ],
      "metadata": {
        "id": "jZmbdK17zR2b"
      },
      "execution_count": null,
      "outputs": []
    },
    {
      "cell_type": "code",
      "source": [
        "class LogisticRegression:\n",
        "  def __init__(self , eta , n_iters):\n",
        "    self.eta = eta \n",
        "    self.n_iters = n_iters\n",
        "\n",
        "  def segmoid(self , z):\n",
        "    return 1/(1+np.exp(-z))\n",
        "\n",
        "  def predict(self , x):\n",
        "    output = np.dot(self.w.T , x.T )+self.b\n",
        "    pred = self.segmoid(output)\n",
        "    pred = np.where(pred >= 0.5 ,1  , 0)\n",
        "    return pred\n",
        "\n",
        "\n",
        "  def fit(self , x , y):\n",
        "    n_samples , n_features = x.shape\n",
        "    self.w = np.zeros((n_features , ))\n",
        "    self.b = 0 \n",
        "\n",
        "    for i in range(self.n_iters):\n",
        "      y_pred = self.predict(x)\n",
        "      c = (y_pred - y)\n",
        "      dj_dw = (1/n_samples) * np.dot(x.T , c)\n",
        "      dj_db = (1/n_samples) * np.sum(c)\n",
        "\n",
        "      self.w -= self.eta * dj_dw\n",
        "      self.b -= self.eta * dj_db\n",
        "\n",
        "    return self.w , self.b\n"
      ],
      "metadata": {
        "id": "CaCk3yvOGrc8"
      },
      "execution_count": null,
      "outputs": []
    },
    {
      "cell_type": "code",
      "source": [
        "model =  LogisticRegression(0.001 , 1000)"
      ],
      "metadata": {
        "id": "6CXiWwItvc8E"
      },
      "execution_count": null,
      "outputs": []
    },
    {
      "cell_type": "code",
      "source": [
        "model.fit(x_train , y_train)\n",
        "y_pred_test = model.predict(x_test)"
      ],
      "metadata": {
        "id": "6UdThLfrv8bo"
      },
      "execution_count": null,
      "outputs": []
    },
    {
      "cell_type": "code",
      "source": [
        "y_pred_test\n"
      ],
      "metadata": {
        "colab": {
          "base_uri": "https://localhost:8080/"
        },
        "id": "W6T44yHZwkL4",
        "outputId": "fe832a97-f5e3-4b88-fa06-3d3d1ed9fd92"
      },
      "execution_count": null,
      "outputs": [
        {
          "output_type": "execute_result",
          "data": {
            "text/plain": [
              "array([1, 0, 1, ..., 1, 0, 1])"
            ]
          },
          "metadata": {},
          "execution_count": 14
        }
      ]
    },
    {
      "cell_type": "code",
      "source": [
        "def accuarcy(y_pred , y):\n",
        "  acc = 0 \n",
        "  for i in range (y_pred.shape[0]):\n",
        "    acc+=(y_pred[i] == y[i])\n",
        "\n",
        "  return( acc/y_pred.shape[0])*100"
      ],
      "metadata": {
        "id": "WZ742nJx4MFK"
      },
      "execution_count": null,
      "outputs": []
    },
    {
      "cell_type": "code",
      "source": [
        "print(accuarcy(y_pred_test , y_test))"
      ],
      "metadata": {
        "colab": {
          "base_uri": "https://localhost:8080/"
        },
        "id": "IZwY_b1P4p6H",
        "outputId": "b6eff3f3-ac8d-4c09-9ac6-bb18ef5ec5c6"
      },
      "execution_count": null,
      "outputs": [
        {
          "output_type": "stream",
          "name": "stdout",
          "text": [
            "99.95271867612293\n"
          ]
        }
      ]
    },
    {
      "cell_type": "code",
      "source": [
        "ind = np.arange(5)\n",
        "ind\n"
      ],
      "metadata": {
        "colab": {
          "base_uri": "https://localhost:8080/"
        },
        "id": "CAfwzJUcenBG",
        "outputId": "b76e15e1-dc67-4d91-fe75-8210d0bf3eb9"
      },
      "execution_count": null,
      "outputs": [
        {
          "output_type": "execute_result",
          "data": {
            "text/plain": [
              "array([0, 1, 2, 3, 4])"
            ]
          },
          "metadata": {},
          "execution_count": 17
        }
      ]
    },
    {
      "cell_type": "code",
      "source": [
        "\n",
        "n = x_train.shape[0]\n",
        "ind = np.arange(n)\n",
        "ind"
      ],
      "metadata": {
        "colab": {
          "base_uri": "https://localhost:8080/"
        },
        "id": "zJTzcb1WpGO8",
        "outputId": "d4cf35d0-2b9a-4b75-85f8-27b1bf3d701f"
      },
      "execution_count": null,
      "outputs": [
        {
          "output_type": "execute_result",
          "data": {
            "text/plain": [
              "array([    0,     1,     2, ..., 12662, 12663, 12664])"
            ]
          },
          "metadata": {},
          "execution_count": 18
        }
      ]
    },
    {
      "cell_type": "code",
      "source": [
        "start = 5\n",
        "end = 10\n",
        "train_ind = ind[start:end]\n",
        "x = x_train[train_ind]\n",
        "test_ind = np.concatenate((ind[:start] , ind[end:]))\n",
        "test_ind[5]"
      ],
      "metadata": {
        "colab": {
          "base_uri": "https://localhost:8080/"
        },
        "id": "wsn1A3xzsLEF",
        "outputId": "b19aa71a-c3b8-4213-cea0-5dfbc2365a58"
      },
      "execution_count": null,
      "outputs": [
        {
          "output_type": "execute_result",
          "data": {
            "text/plain": [
              "10"
            ]
          },
          "metadata": {},
          "execution_count": 19
        }
      ]
    },
    {
      "cell_type": "code",
      "source": [
        "def k_fold_validation(x , y , k):\n",
        "  n_samples = x.shape[0]\n",
        "  ind = np.arange(n_samples)\n",
        "  np.random.shuffle(ind)\n",
        "  segment = n_samples // k\n",
        "  folds = []\n",
        "  for i in range (k):\n",
        "    start = i*segment\n",
        "    end = (i+1)*segment\n",
        "    test_ind = ind[start:end]\n",
        "    train_ind = np.concatenate((ind[:start] , ind[end:]))\n",
        "    x_test = x[test_ind]\n",
        "    y_test = y[test_ind]\n",
        "    x_train = x[train_ind]\n",
        "    y_train = y[train_ind]\n",
        "    folds.append((x_train,y_train,x_test,y_test))\n",
        "  return folds"
      ],
      "metadata": {
        "id": "I0dP0Sx_t5nB"
      },
      "execution_count": null,
      "outputs": []
    },
    {
      "cell_type": "code",
      "source": [
        "folds = k_fold_validation(x_train , y_train , 10)"
      ],
      "metadata": {
        "id": "hgTUcbPrzl94"
      },
      "execution_count": null,
      "outputs": []
    },
    {
      "cell_type": "code",
      "source": [
        "len(folds)"
      ],
      "metadata": {
        "id": "BhYWxNfALU7C",
        "colab": {
          "base_uri": "https://localhost:8080/"
        },
        "outputId": "40746bf4-517b-4ff4-fc96-422fb11c7fc3"
      },
      "execution_count": null,
      "outputs": [
        {
          "output_type": "execute_result",
          "data": {
            "text/plain": [
              "10"
            ]
          },
          "metadata": {},
          "execution_count": 22
        }
      ]
    },
    {
      "cell_type": "code",
      "source": [
        "rates = [0.1 , 0.01 , 0.001 , 0.0001 , 1 , 0.00000000001]\n"
      ],
      "metadata": {
        "id": "8p2szMfUwTvo"
      },
      "execution_count": null,
      "outputs": []
    },
    {
      "cell_type": "code",
      "source": [
        "def classifier(folds):\n",
        "  i=1\n",
        "  for data in folds :\n",
        "     x_train , y_train , x_test , y_test = data\n",
        "     print(f\"fold number {i}\")\n",
        "     i+=1\n",
        "     for rate in rates:\n",
        "       print(f\"learning rate = {rate}\")\n",
        "       model = LogisticRegression(rate , 1000)\n",
        "       model.fit(x_train , y_train)\n",
        "       y_pred = model.predict(x_test)\n",
        "       acc = accuarcy(y_pred , y_test)\n",
        "       print(f\"accuarcy = {acc}\")\n",
        "       print(\"\")\n"
      ],
      "metadata": {
        "id": "zaam75u81hjA"
      },
      "execution_count": null,
      "outputs": []
    },
    {
      "cell_type": "code",
      "source": [
        "classifier(folds)"
      ],
      "metadata": {
        "colab": {
          "base_uri": "https://localhost:8080/"
        },
        "id": "IppBRFg3xq3F",
        "outputId": "2b186441-656b-46a2-db6b-775c4f64fc87"
      },
      "execution_count": null,
      "outputs": [
        {
          "output_type": "stream",
          "name": "stdout",
          "text": [
            "fold number 1\n",
            "learning rate = 0.1\n",
            "accuarcy = 100.0\n",
            "\n",
            "learning rate = 0.01\n",
            "accuarcy = 100.0\n",
            "\n",
            "learning rate = 0.001\n",
            "accuarcy = 100.0\n",
            "\n",
            "learning rate = 0.0001\n",
            "accuarcy = 100.0\n",
            "\n",
            "learning rate = 1\n",
            "accuarcy = 100.0\n",
            "\n",
            "learning rate = 1e-11\n",
            "accuarcy = 100.0\n",
            "\n",
            "fold number 2\n",
            "learning rate = 0.1\n",
            "accuarcy = 99.92101105845181\n",
            "\n",
            "learning rate = 0.01\n",
            "accuarcy = 99.92101105845181\n",
            "\n",
            "learning rate = 0.001\n",
            "accuarcy = 99.92101105845181\n",
            "\n",
            "learning rate = 0.0001\n",
            "accuarcy = 99.92101105845181\n",
            "\n",
            "learning rate = 1\n",
            "accuarcy = 99.92101105845181\n",
            "\n",
            "learning rate = 1e-11\n",
            "accuarcy = 99.92101105845181\n",
            "\n",
            "fold number 3\n",
            "learning rate = 0.1\n",
            "accuarcy = 99.84202211690362\n",
            "\n",
            "learning rate = 0.01\n",
            "accuarcy = 99.84202211690362\n",
            "\n",
            "learning rate = 0.001\n",
            "accuarcy = 99.84202211690362\n",
            "\n",
            "learning rate = 0.0001\n",
            "accuarcy = 99.84202211690362\n",
            "\n",
            "learning rate = 1\n",
            "accuarcy = 99.84202211690362\n",
            "\n",
            "learning rate = 1e-11\n",
            "accuarcy = 99.84202211690362\n",
            "\n",
            "fold number 4\n",
            "learning rate = 0.1\n",
            "accuarcy = 99.92101105845181\n",
            "\n",
            "learning rate = 0.01\n",
            "accuarcy = 99.92101105845181\n",
            "\n",
            "learning rate = 0.001\n",
            "accuarcy = 99.92101105845181\n",
            "\n",
            "learning rate = 0.0001\n",
            "accuarcy = 99.92101105845181\n",
            "\n",
            "learning rate = 1\n",
            "accuarcy = 99.92101105845181\n",
            "\n",
            "learning rate = 1e-11\n",
            "accuarcy = 99.92101105845181\n",
            "\n",
            "fold number 5\n",
            "learning rate = 0.1\n",
            "accuarcy = 99.84202211690362\n",
            "\n",
            "learning rate = 0.01\n",
            "accuarcy = 99.84202211690362\n",
            "\n",
            "learning rate = 0.001\n",
            "accuarcy = 99.84202211690362\n",
            "\n",
            "learning rate = 0.0001\n",
            "accuarcy = 99.84202211690362\n",
            "\n",
            "learning rate = 1\n",
            "accuarcy = 99.84202211690362\n",
            "\n",
            "learning rate = 1e-11\n",
            "accuarcy = 99.84202211690362\n",
            "\n",
            "fold number 6\n",
            "learning rate = 0.1\n",
            "accuarcy = 99.76303317535546\n",
            "\n",
            "learning rate = 0.01\n",
            "accuarcy = 99.76303317535546\n",
            "\n",
            "learning rate = 0.001\n",
            "accuarcy = 99.76303317535546\n",
            "\n",
            "learning rate = 0.0001\n",
            "accuarcy = 99.76303317535546\n",
            "\n",
            "learning rate = 1\n",
            "accuarcy = 99.76303317535546\n",
            "\n",
            "learning rate = 1e-11\n",
            "accuarcy = 99.76303317535546\n",
            "\n",
            "fold number 7\n",
            "learning rate = 0.1\n",
            "accuarcy = 99.76303317535546\n",
            "\n",
            "learning rate = 0.01\n",
            "accuarcy = 99.76303317535546\n",
            "\n",
            "learning rate = 0.001\n",
            "accuarcy = 99.76303317535546\n",
            "\n",
            "learning rate = 0.0001\n",
            "accuarcy = 99.76303317535546\n",
            "\n",
            "learning rate = 1\n",
            "accuarcy = 99.76303317535546\n",
            "\n",
            "learning rate = 1e-11\n",
            "accuarcy = 99.76303317535546\n",
            "\n",
            "fold number 8\n",
            "learning rate = 0.1\n",
            "accuarcy = 99.76303317535546\n",
            "\n",
            "learning rate = 0.01\n",
            "accuarcy = 99.76303317535546\n",
            "\n",
            "learning rate = 0.001\n",
            "accuarcy = 99.76303317535546\n",
            "\n",
            "learning rate = 0.0001\n",
            "accuarcy = 99.76303317535546\n",
            "\n",
            "learning rate = 1\n",
            "accuarcy = 99.76303317535546\n",
            "\n",
            "learning rate = 1e-11\n",
            "accuarcy = 99.76303317535546\n",
            "\n",
            "fold number 9\n",
            "learning rate = 0.1\n",
            "accuarcy = 99.84202211690362\n",
            "\n",
            "learning rate = 0.01\n",
            "accuarcy = 99.84202211690362\n",
            "\n",
            "learning rate = 0.001\n",
            "accuarcy = 99.84202211690362\n",
            "\n",
            "learning rate = 0.0001\n",
            "accuarcy = 99.84202211690362\n",
            "\n",
            "learning rate = 1\n",
            "accuarcy = 99.84202211690362\n",
            "\n",
            "learning rate = 1e-11\n",
            "accuarcy = 99.84202211690362\n",
            "\n",
            "fold number 10\n",
            "learning rate = 0.1\n",
            "accuarcy = 99.92101105845181\n",
            "\n",
            "learning rate = 0.01\n",
            "accuarcy = 99.92101105845181\n",
            "\n",
            "learning rate = 0.001\n",
            "accuarcy = 99.92101105845181\n",
            "\n",
            "learning rate = 0.0001\n",
            "accuarcy = 99.92101105845181\n",
            "\n",
            "learning rate = 1\n",
            "accuarcy = 99.92101105845181\n",
            "\n",
            "learning rate = 1e-11\n",
            "accuarcy = 99.92101105845181\n",
            "\n"
          ]
        }
      ]
    },
    {
      "cell_type": "code",
      "source": [],
      "metadata": {
        "id": "WyKnfdu213ns"
      },
      "execution_count": null,
      "outputs": []
    }
  ]
}