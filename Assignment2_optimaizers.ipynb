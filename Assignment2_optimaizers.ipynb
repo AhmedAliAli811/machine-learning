{
  "nbformat": 4,
  "nbformat_minor": 0,
  "metadata": {
    "colab": {
      "provenance": [],
      "authorship_tag": "ABX9TyMj4akJYyporEiPvdShy6dm",
      "include_colab_link": true
    },
    "kernelspec": {
      "name": "python3",
      "display_name": "Python 3"
    },
    "language_info": {
      "name": "python"
    },
    "gpuClass": "standard"
  },
  "cells": [
    {
      "cell_type": "markdown",
      "metadata": {
        "id": "view-in-github",
        "colab_type": "text"
      },
      "source": [
        "<a href=\"https://colab.research.google.com/github/Ahmed-ali-fcai-811/machine-learning/blob/main/Assignment2_optimaizers.ipynb\" target=\"_parent\"><img src=\"https://colab.research.google.com/assets/colab-badge.svg\" alt=\"Open In Colab\"/></a>"
      ]
    },
    {
      "cell_type": "code",
      "execution_count": 29,
      "metadata": {
        "id": "OuvEzNeFCsmC"
      },
      "outputs": [],
      "source": [
        "from keras.datasets import mnist\n",
        "import numpy as np\n",
        "from sklearn.model_selection import train_test_split"
      ]
    },
    {
      "cell_type": "code",
      "source": [
        "(x , y) , (x_test , y_test) = mnist.load_data()"
      ],
      "metadata": {
        "id": "gtb-3FSyDz_4"
      },
      "execution_count": 30,
      "outputs": []
    },
    {
      "cell_type": "code",
      "source": [
        "# 0 - 1 mask \n",
        "train_data_msk  = np.where((y==1) | (y == 0))\n",
        "test_data_msk = np.where( (y_test == 1) | (y_test == 0))"
      ],
      "metadata": {
        "id": "9XPigtriHA2M"
      },
      "execution_count": 31,
      "outputs": []
    },
    {
      "cell_type": "code",
      "source": [
        "x = x[train_data_msk]\n",
        "y = y[train_data_msk]"
      ],
      "metadata": {
        "id": "XyBh74OmIxk8"
      },
      "execution_count": 32,
      "outputs": []
    },
    {
      "cell_type": "code",
      "source": [
        "x_test = x_test[test_data_msk]\n",
        "y_test = y_test[test_data_msk]"
      ],
      "metadata": {
        "id": "O_oP5FEIKO6A"
      },
      "execution_count": 33,
      "outputs": []
    },
    {
      "cell_type": "code",
      "source": [
        "x = x.reshape(x.shape[0] ,-1 )"
      ],
      "metadata": {
        "id": "EqZL7a2cKgzf"
      },
      "execution_count": 34,
      "outputs": []
    },
    {
      "cell_type": "code",
      "source": [
        "x.shape"
      ],
      "metadata": {
        "id": "OiMtGpZMKjHW",
        "colab": {
          "base_uri": "https://localhost:8080/"
        },
        "outputId": "802703ed-899e-469c-c4d3-618b5ee67b76"
      },
      "execution_count": 35,
      "outputs": [
        {
          "output_type": "execute_result",
          "data": {
            "text/plain": [
              "(12665, 784)"
            ]
          },
          "metadata": {},
          "execution_count": 35
        }
      ]
    },
    {
      "cell_type": "code",
      "source": [
        "x_test = x_test.reshape(x_test.shape[0] ,-1 )"
      ],
      "metadata": {
        "id": "hjFxnwc_GeR0"
      },
      "execution_count": 36,
      "outputs": []
    },
    {
      "cell_type": "code",
      "source": [
        "y_test.shape"
      ],
      "metadata": {
        "colab": {
          "base_uri": "https://localhost:8080/"
        },
        "id": "2N7rDfPuGiFy",
        "outputId": "0bf934ef-4fef-4145-aaae-8c08f7a32af0"
      },
      "execution_count": 37,
      "outputs": [
        {
          "output_type": "execute_result",
          "data": {
            "text/plain": [
              "(2115,)"
            ]
          },
          "metadata": {},
          "execution_count": 37
        }
      ]
    },
    {
      "cell_type": "code",
      "source": [
        "x_test = (x_test - np.mean(x)) / np.std(x)\n",
        "x = (x - np.mean(x)) / np.std(x)"
      ],
      "metadata": {
        "id": "jZmbdK17zR2b"
      },
      "execution_count": 38,
      "outputs": []
    },
    {
      "cell_type": "code",
      "source": [
        "def accuarcy(y_pred , y):\n",
        "  acc = 0 \n",
        "  for i in range (y_pred.shape[0]):\n",
        "    acc+=(y_pred[i] == y[i])\n",
        "\n",
        "  return( acc/y_pred.shape[0])*100"
      ],
      "metadata": {
        "id": "WZ742nJx4MFK"
      },
      "execution_count": 40,
      "outputs": []
    },
    {
      "cell_type": "code",
      "source": [
        "x_train, x_val, y_train, y_val = train_test_split(x, y, test_size=0.3, random_state=42)"
      ],
      "metadata": {
        "id": "WyKnfdu213ns"
      },
      "execution_count": 41,
      "outputs": []
    },
    {
      "cell_type": "code",
      "source": [
        "class LogisticRegression:\n",
        "  def __init__(self , eta , n_iters ,x,y):\n",
        "    self.eta = eta \n",
        "    self.n_iters = n_iters\n",
        "    self.w = np.zeros((x.shape[1] , ))\n",
        "    self.b = 0 \n",
        "\n",
        "\n",
        "\n",
        "  def segmoid(self , z):\n",
        "    return 1/(1+np.exp(-z))\n",
        "\n",
        "  def predict(self , x):\n",
        "    output = np.dot(self.w.T , x.T )+self.b\n",
        "    pred = self.segmoid(output)\n",
        "    pred = np.where(pred >= 0.5 ,1  , 0)\n",
        "    return pred\n",
        "\n",
        "\n",
        "  def fit(self , x , y):\n",
        "    n_samples , n_features = x.shape\n",
        "    \n",
        "    for i in range(self.n_iters):\n",
        "      y_pred = self.predict(x)\n",
        "      c = (y_pred - y)\n",
        "      dj_dw = (1/n_samples) * np.dot(x.T , c)\n",
        "      dj_db = (1/n_samples) * np.sum(c)\n",
        "\n",
        "      self.w -= self.eta * dj_dw\n",
        "      self.b -= self.eta * dj_db\n",
        "\n",
        "    return self.w , self.b\n"
      ],
      "metadata": {
        "id": "CaCk3yvOGrc8"
      },
      "execution_count": 39,
      "outputs": []
    },
    {
      "cell_type": "code",
      "source": [
        "class L1_regularization:\n",
        "  def __init__(self , eta , n_iters, lamda):\n",
        "    self.eta = eta \n",
        "    self.n_iters = n_iters\n",
        "    self.lamda =lamda\n",
        "\n",
        "  def segmoid(self , z):\n",
        "    return 1/(1+np.exp(-z))\n",
        "\n",
        "  def predict(self , x):\n",
        "    output = np.dot(self.w.T , x.T )+self.b\n",
        "    pred = self.segmoid(output)\n",
        "    pred = np.where(pred >= 0.5 ,1  , 0)\n",
        "    return pred\n",
        "\n",
        "\n",
        "  def fit(self , x , y):\n",
        "    n_samples , n_features = x.shape\n",
        "    self.w = np.zeros((n_features , ))\n",
        "    self.b = 0 \n",
        "\n",
        "    for i in range(self.n_iters):\n",
        "      y_pred = self.predict(x)\n",
        "      c = (y_pred - y)\n",
        "      penalty = self.lamda * np.sign(self.w)\n",
        "      dj_dw = (1/n_samples) * np.dot(x.T , c)+penalty\n",
        "      dj_db = (1/n_samples) * np.sum(c)\n",
        "\n",
        "      self.w -= self.eta * dj_dw\n",
        "      self.b -= self.eta * dj_db\n",
        "\n",
        "    return self.w , self.b\n"
      ],
      "metadata": {
        "id": "C9YNuJWXHGj8"
      },
      "execution_count": 42,
      "outputs": []
    },
    {
      "cell_type": "code",
      "source": [
        "def mini_batch_GD(x,y,num_batches ,x_val,y_val):\n",
        "  model =LogisticRegression(0.01,1,x,y)\n",
        "  batch_size =len(x)//num_batches\n",
        "  for i in  range(num_batches):\n",
        "     X_batch = x[i * batch_size : (i + 1) * batch_size]\n",
        "     y_batch = y[i * batch_size : (i + 1) * batch_size]\n",
        "     model.fit(X_batch,y_batch)\n",
        "\n",
        "  \n",
        "  y_pred=model.predict(x_val)\n",
        "\n",
        "  return accuarcy(y_pred,y_val)\n",
        "\n"
      ],
      "metadata": {
        "id": "pCLJfkXTB2N1"
      },
      "execution_count": 52,
      "outputs": []
    },
    {
      "cell_type": "code",
      "source": [
        "class RMS_Prob_optimizer:\n",
        "  def __init__(self , eta , n_iters ,beta=0.99,epsilon=1e-8):\n",
        "    self.eta = eta \n",
        "    self.n_iters = n_iters\n",
        "    self.beta =beta\n",
        "    self.epsilon = epsilon\n",
        "\n",
        "  def segmoid(self , z):\n",
        "    return 1/(1+np.exp(-z))\n",
        "\n",
        "  def predict(self , x):\n",
        "    output = np.dot(self.w.T , x.T )+self.b\n",
        "    pred = self.segmoid(output)\n",
        "    pred = np.where(pred >= 0.5 ,1  , 0)\n",
        "    return pred\n",
        "\n",
        "\n",
        "  def fit(self , x , y):\n",
        "    n_samples , n_features = x.shape\n",
        "    self.w = np.zeros((n_features , ))\n",
        "    self.b = 0 \n",
        "    self.sdw=0\n",
        "    self.sdb=0\n",
        "\n",
        "    for i in range(self.n_iters):\n",
        "      y_pred = self.predict(x)\n",
        "      c = (y_pred - y)\n",
        "      dj_dw = (1/n_samples) * np.dot(x.T , c)\n",
        "      dj_db = (1/n_samples) * np.sum(c)\n",
        "\n",
        "      self.sdw=self.sdw*self.beta +(1-self.beta)*dj_dw**2\n",
        "      self.sdb=self.sdb*self.beta +(1-self.beta)*dj_db**2\n",
        "\n",
        "      self.w -= self.eta * (dj_dw/np.sqrt(self.sdw)+self.epsilon)\n",
        "      self.b -= self.eta * (dj_db/np.sqrt(self.sdb)+self.epsilon)\n",
        "\n",
        "    return self.w , self.b\n"
      ],
      "metadata": {
        "id": "DAOHwDBc_JGE"
      },
      "execution_count": 62,
      "outputs": []
    },
    {
      "cell_type": "code",
      "source": [
        "class Adam_optimizer:\n",
        "  def __init__(self , eta , n_iters ,beta=0.99,epsilon=1e-8):\n",
        "    self.eta = eta \n",
        "    self.n_iters = n_iters\n",
        "    self.beta =beta\n",
        "    self.epsilon = epsilon\n",
        "\n",
        "  def segmoid(self , z):\n",
        "    return 1/(1+np.exp(-z))\n",
        "\n",
        "  def predict(self , x):\n",
        "    output = np.dot(self.w.T , x.T )+self.b\n",
        "    pred = self.segmoid(output)\n",
        "    pred = np.where(pred >= 0.5 ,1  , 0)\n",
        "    return pred\n",
        "\n",
        "\n",
        "  def fit(self , x , y):\n",
        "    n_samples , n_features = x.shape\n",
        "    self.w = np.zeros((n_features , ))\n",
        "    self.b = 0 \n",
        "    self.sdw=0\n",
        "    self.sdb=0\n",
        "    self.vdw=0\n",
        "    self.vdb=0\n",
        "\n",
        "    for i in range(self.n_iters):\n",
        "      y_pred = self.predict(x)\n",
        "      c = (y_pred - y)\n",
        "      dj_dw = (1/n_samples) * np.dot(x.T , c)\n",
        "      dj_db = (1/n_samples) * np.sum(c)\n",
        "\n",
        "      self.sdw=self.sdw*self.beta +(1-self.beta)*dj_dw**2\n",
        "      self.sdb=self.sdb*self.beta +(1-self.beta)*dj_db**2\n",
        "      \n",
        "      \n",
        "      self.vdw=self.vdw*self.beta +(1-self.beta)*dj_dw\n",
        "      self.vdb=self.vdb*self.beta +(1-self.beta)*dj_db\n",
        "\n",
        "      self.w -= self.eta * (self.vdw/np.sqrt(self.sdw)+self.epsilon)\n",
        "      self.b -= self.eta * (self.vdb/np.sqrt(self.sdb)+self.epsilon)\n",
        "\n",
        "    return self.w , self.b\n"
      ],
      "metadata": {
        "id": "0G4DHsZeHXOO"
      },
      "execution_count": 68,
      "outputs": []
    },
    {
      "cell_type": "code",
      "source": [
        "#use  0.1,0.5 for lampda\n",
        "#use 5batch,10"
      ],
      "metadata": {
        "id": "YH16CoBcA3CI"
      },
      "execution_count": 51,
      "outputs": []
    }
  ]
}